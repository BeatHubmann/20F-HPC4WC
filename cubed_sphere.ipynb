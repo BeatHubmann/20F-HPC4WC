{
 "cells": [
  {
   "cell_type": "markdown",
   "metadata": {
    "toc": true
   },
   "source": [
    "<h1>Table of Contents<span class=\"tocSkip\"></span></h1>\n",
    "<div class=\"toc\"><ul class=\"toc-item\"></ul></div>"
   ]
  },
  {
   "cell_type": "code",
   "execution_count": 115,
   "metadata": {
    "ExecuteTime": {
     "end_time": "2020-07-03T09:30:53.516072Z",
     "start_time": "2020-07-03T09:30:53.291881Z"
    }
   },
   "outputs": [],
   "source": [
    "import ipyparallel as ipp\n",
    "from mpi4py import MPI"
   ]
  },
  {
   "cell_type": "code",
   "execution_count": 116,
   "metadata": {
    "ExecuteTime": {
     "end_time": "2020-07-03T09:30:58.857431Z",
     "start_time": "2020-07-03T09:30:54.281428Z"
    }
   },
   "outputs": [],
   "source": [
    "# use on command line:\n",
    "# ipcluster start -n 6"
   ]
  },
  {
   "cell_type": "code",
   "execution_count": 117,
   "metadata": {
    "ExecuteTime": {
     "end_time": "2020-07-03T09:32:22.766283Z",
     "start_time": "2020-07-03T09:32:22.718327Z"
    },
    "tags": []
   },
   "outputs": [
    {
     "output_type": "stream",
     "name": "stdout",
     "text": "Waiting for connection file: ~/.ipython/profile_mpi/security/ipcontroller-client.json\n"
    },
    {
     "output_type": "error",
     "ename": "OSError",
     "evalue": "Connection file '~/.ipython/profile_mpi/security/ipcontroller-client.json' not found.\nYou have attempted to connect to an IPython Cluster but no Controller could be found.\nPlease double-check your configuration and ensure that a cluster is running.",
     "traceback": [
      "\u001b[0;31m---------------------------------------------------------------------------\u001b[0m",
      "\u001b[0;31mOSError\u001b[0m                                   Traceback (most recent call last)",
      "\u001b[0;32m<ipython-input-117-f294740e85df>\u001b[0m in \u001b[0;36m<module>\u001b[0;34m\u001b[0m\n\u001b[0;32m----> 1\u001b[0;31m \u001b[0mcluster\u001b[0m \u001b[0;34m=\u001b[0m \u001b[0mipp\u001b[0m\u001b[0;34m.\u001b[0m\u001b[0mClient\u001b[0m\u001b[0;34m(\u001b[0m\u001b[0mprofile\u001b[0m\u001b[0;34m=\u001b[0m\u001b[0;34m'mpi'\u001b[0m\u001b[0;34m)\u001b[0m\u001b[0;34m\u001b[0m\u001b[0;34m\u001b[0m\u001b[0m\n\u001b[0m\u001b[1;32m      2\u001b[0m \u001b[0mprint\u001b[0m\u001b[0;34m(\u001b[0m\u001b[0;34m'profile:'\u001b[0m\u001b[0;34m,\u001b[0m \u001b[0mcluster\u001b[0m\u001b[0;34m.\u001b[0m\u001b[0mprofile\u001b[0m\u001b[0;34m)\u001b[0m\u001b[0;34m\u001b[0m\u001b[0;34m\u001b[0m\u001b[0m\n\u001b[1;32m      3\u001b[0m \u001b[0mprint\u001b[0m\u001b[0;34m(\u001b[0m\u001b[0;34m\"IDs:\"\u001b[0m\u001b[0;34m,\u001b[0m \u001b[0mcluster\u001b[0m\u001b[0;34m.\u001b[0m\u001b[0mids\u001b[0m\u001b[0;34m)\u001b[0m \u001b[0;31m# Print process id numbers\u001b[0m\u001b[0;34m\u001b[0m\u001b[0;34m\u001b[0m\u001b[0m\n\u001b[1;32m      4\u001b[0m \u001b[0mget_ipython\u001b[0m\u001b[0;34m(\u001b[0m\u001b[0;34m)\u001b[0m\u001b[0;34m.\u001b[0m\u001b[0mrun_line_magic\u001b[0m\u001b[0;34m(\u001b[0m\u001b[0;34m'px'\u001b[0m\u001b[0;34m,\u001b[0m \u001b[0;34m'import numpy as np'\u001b[0m\u001b[0;34m)\u001b[0m\u001b[0;34m\u001b[0m\u001b[0;34m\u001b[0m\u001b[0m\n",
      "\u001b[0;32m/usr/local/lib/python3.8/site-packages/ipyparallel/client/client.py\u001b[0m in \u001b[0;36m__init__\u001b[0;34m(self, url_file, profile, profile_dir, ipython_dir, context, debug, sshserver, sshkey, password, paramiko, timeout, cluster_id, **extra_args)\u001b[0m\n\u001b[1;32m    415\u001b[0m                         \u001b[0mno_file_msg\u001b[0m\u001b[0;34m,\u001b[0m\u001b[0;34m\u001b[0m\u001b[0;34m\u001b[0m\u001b[0m\n\u001b[1;32m    416\u001b[0m                     ])\n\u001b[0;32m--> 417\u001b[0;31m                     \u001b[0;32mraise\u001b[0m \u001b[0mIOError\u001b[0m\u001b[0;34m(\u001b[0m\u001b[0mmsg\u001b[0m\u001b[0;34m)\u001b[0m\u001b[0;34m\u001b[0m\u001b[0;34m\u001b[0m\u001b[0m\n\u001b[0m\u001b[1;32m    418\u001b[0m         \u001b[0;32mif\u001b[0m \u001b[0murl_file\u001b[0m \u001b[0;32mis\u001b[0m \u001b[0;32mNone\u001b[0m\u001b[0;34m:\u001b[0m\u001b[0;34m\u001b[0m\u001b[0;34m\u001b[0m\u001b[0m\n\u001b[1;32m    419\u001b[0m             \u001b[0;32mraise\u001b[0m \u001b[0mIOError\u001b[0m\u001b[0;34m(\u001b[0m\u001b[0mno_file_msg\u001b[0m\u001b[0;34m)\u001b[0m\u001b[0;34m\u001b[0m\u001b[0;34m\u001b[0m\u001b[0m\n",
      "\u001b[0;31mOSError\u001b[0m: Connection file '~/.ipython/profile_mpi/security/ipcontroller-client.json' not found.\nYou have attempted to connect to an IPython Cluster but no Controller could be found.\nPlease double-check your configuration and ensure that a cluster is running."
     ]
    }
   ],
   "source": [
    "cluster = ipp.Client(profile='mpi')\n",
    "print('profile:', cluster.profile)\n",
    "print(\"IDs:\", cluster.ids) # Print process id numbers\n",
    "%px import numpy as np"
   ]
  },
  {
   "cell_type": "code",
   "execution_count": 118,
   "metadata": {
    "ExecuteTime": {
     "end_time": "2020-07-03T09:39:43.414880Z",
     "start_time": "2020-07-03T09:39:43.364811Z"
    },
    "tags": []
   },
   "outputs": [
    {
     "output_type": "stream",
     "name": "stderr",
     "text": "UsageError: Cell magic `%%px` not found.\n"
    }
   ],
   "source": [
    "%%px\n",
    "\n",
    "comm = MPI.COMM_WORLD\n",
    "rank = comm.Get_rank()\n",
    "size = comm.Get_size()\n",
    "\n",
    "# passing MPI datatypes explicitly\n",
    "if rank == 0:\n",
    "    data = np.arange(100, dtype='i')\n",
    "    np.random.shuffle(data)\n",
    "    comm.Send([data, MPI.INT], dest=1, tag=77)\n",
    "    print(\"{} of {}: sent data to 1: {}\".format(rank, size, data))\n",
    "elif rank == 1:\n",
    "    data = np.empty(100, dtype='i')\n",
    "    comm.Recv([data, MPI.INT], source=0, tag=77)\n",
    "    print(\"{} of {}: received data from 0: {}\".format(rank, size, data))\n",
    "else:\n",
    "    print(\"{}: idle\".format(rank))"
   ]
  },
  {
   "cell_type": "code",
   "execution_count": 119,
   "metadata": {
    "tags": []
   },
   "outputs": [
    {
     "output_type": "stream",
     "name": "stderr",
     "text": "UsageError: Cell magic `%%px` not found.\n"
    }
   ],
   "source": [
    "%%px\n",
    "color = rank // 2 "
   ]
  },
  {
   "cell_type": "code",
   "execution_count": 120,
   "metadata": {
    "tags": []
   },
   "outputs": [
    {
     "output_type": "stream",
     "name": "stderr",
     "text": "UsageError: Cell magic `%%px` not found.\n"
    }
   ],
   "source": [
    "%%px\n",
    "new_comm = comm.Split(color, rank)"
   ]
  },
  {
   "cell_type": "code",
   "execution_count": 121,
   "metadata": {
    "tags": []
   },
   "outputs": [
    {
     "output_type": "stream",
     "name": "stderr",
     "text": "UsageError: Cell magic `%%px` not found.\n"
    }
   ],
   "source": [
    "%%px\n",
    "new_rank = new_comm.Get_rank()\n",
    "new_size = new_comm.Get_size()\n",
    "print(\"Color: {} / Local: {} of {} / Global: {} of {}\".format(color, new_rank, new_size, rank, size))"
   ]
  },
  {
   "cell_type": "code",
   "execution_count": 415,
   "metadata": {},
   "outputs": [],
   "source": [
    "from cubedspherepartitioner import CubedSpherePartitioner"
   ]
  },
  {
   "cell_type": "code",
   "execution_count": 416,
   "metadata": {},
   "outputs": [
    {
     "output_type": "execute_result",
     "data": {
      "text/plain": "cubedspherepartitioner.CubedSpherePartitioner"
     },
     "metadata": {},
     "execution_count": 416
    }
   ],
   "source": [
    "CubedSpherePartitioner"
   ]
  },
  {
   "cell_type": "code",
   "execution_count": 417,
   "metadata": {},
   "outputs": [],
   "source": [
    "import numpy as np\n",
    "import math"
   ]
  },
  {
   "cell_type": "code",
   "execution_count": 418,
   "metadata": {},
   "outputs": [],
   "source": [
    "cube_neighbors = {1: {'U': [3, 3], 'D': [6, 0], 'L': [5, 1], 'R': [2, 0]},\n",
    "                  2: {'U': [3, 0], 'D': [6, 3], 'L': [1, 0], 'R': [4, 1]},\n",
    "                  3: {'U': [5, 3], 'D': [2, 0], 'L': [1, 1], 'R': [4, 0]},\n",
    "                  4: {'U': [5, 0], 'D': [2, 3], 'L': [3, 0], 'R': [6, 1]},\n",
    "                  5: {'U': [1, 3], 'D': [4, 0], 'L': [3, 1], 'R': [6, 0]},\n",
    "                  6: {'U': [1, 0], 'D': [4, 3], 'L': [5, 0], 'R': [2, 1]}}"
   ]
  },
  {
   "cell_type": "code",
   "execution_count": 419,
   "metadata": {},
   "outputs": [],
   "source": [
    "size = 24\n",
    "ranks_per_tile = size // 6\n",
    "my_tile = size // ranks_per_tile\n",
    "ranks_per_axis = int(math.sqrt(ranks_per_tile))\n"
   ]
  },
  {
   "cell_type": "code",
   "execution_count": 420,
   "metadata": {},
   "outputs": [],
   "source": [
    "tiles_placement = {i: (i // ranks_per_tile) + 1 for i in range(size)}"
   ]
  },
  {
   "cell_type": "code",
   "execution_count": 421,
   "metadata": {},
   "outputs": [
    {
     "output_type": "execute_result",
     "data": {
      "text/plain": "dict_items([(0, 1), (1, 1), (2, 1), (3, 1), (4, 2), (5, 2), (6, 2), (7, 2), (8, 3), (9, 3), (10, 3), (11, 3), (12, 4), (13, 4), (14, 4), (15, 4), (16, 5), (17, 5), (18, 5), (19, 5), (20, 6), (21, 6), (22, 6), (23, 6)])"
     },
     "metadata": {},
     "execution_count": 421
    }
   ],
   "source": [
    "tiles_placement.items()"
   ]
  },
  {
   "cell_type": "code",
   "execution_count": 422,
   "metadata": {},
   "outputs": [],
   "source": [
    "ranks_placement = dict()\n",
    "for k, v in tiles_placement.items():\n",
    "    ranks_placement.setdefault(v, list()).append(k)"
   ]
  },
  {
   "cell_type": "code",
   "execution_count": 423,
   "metadata": {},
   "outputs": [
    {
     "output_type": "execute_result",
     "data": {
      "text/plain": "{1: [0, 1, 2, 3],\n 2: [4, 5, 6, 7],\n 3: [8, 9, 10, 11],\n 4: [12, 13, 14, 15],\n 5: [16, 17, 18, 19],\n 6: [20, 21, 22, 23]}"
     },
     "metadata": {},
     "execution_count": 423
    }
   ],
   "source": [
    "ranks_placement"
   ]
  },
  {
   "cell_type": "code",
   "execution_count": 424,
   "metadata": {},
   "outputs": [],
   "source": [
    "tile_roots = {v: k[0] for v, k in ranks_placement.items()}"
   ]
  },
  {
   "cell_type": "code",
   "execution_count": 425,
   "metadata": {},
   "outputs": [
    {
     "output_type": "execute_result",
     "data": {
      "text/plain": "{1: 0, 2: 4, 3: 8, 4: 12, 5: 16, 6: 20}"
     },
     "metadata": {},
     "execution_count": 425
    }
   ],
   "source": [
    "tile_roots"
   ]
  },
  {
   "cell_type": "code",
   "execution_count": 426,
   "metadata": {},
   "outputs": [],
   "source": [
    "assert cube_neighbors[1]['L'][0] == cube_neighbors[6]['L'][0] == cube_neighbors[4]['U'][0], 'Cube geometry faulty'\n",
    "assert cube_neighbors[6]['D'][0] == cube_neighbors[2]['R'][0] == cube_neighbors[3]['R'][0], 'Cube geometry faulty' \n",
    "assert cube_neighbors[3]['U'][0] == cube_neighbors[6]['L'][0] == cube_neighbors[1]['L'][0], 'Cube geometry faulty'"
   ]
  },
  {
   "cell_type": "code",
   "execution_count": 427,
   "metadata": {
    "tags": []
   },
   "outputs": [],
   "source": [
    "for i in range(6):\n",
    "    rotation_sum = 0\n",
    "    [rotation_sum := rotation_sum + k[1] for v, k in cube_neighbors[i+1].items()]\n",
    "    assert rotation_sum == 4, 'Cube geometry faulty' \n"
   ]
  },
  {
   "cell_type": "code",
   "execution_count": 428,
   "metadata": {},
   "outputs": [],
   "source": [
    "rotations = [0, 0, 1, 3, 3, 0]\n",
    "rank_grid = np.asarray([np.rot90(np.flipud(np.asarray(ranks_placement[i+1]).reshape(ranks_per_axis, -1)), rotations[i]) for i in range(6)])"
   ]
  },
  {
   "cell_type": "code",
   "execution_count": 429,
   "metadata": {},
   "outputs": [],
   "source": [
    "m = np.array([[5, 0],\n",
    "              [0, 5]])"
   ]
  },
  {
   "cell_type": "code",
   "execution_count": 430,
   "metadata": {},
   "outputs": [
    {
     "output_type": "execute_result",
     "data": {
      "text/plain": "array([[5, 0],\n       [0, 5]])"
     },
     "metadata": {},
     "execution_count": 430
    }
   ],
   "source": [
    "np.rot90(m, 0)"
   ]
  },
  {
   "cell_type": "code",
   "execution_count": 431,
   "metadata": {},
   "outputs": [
    {
     "output_type": "execute_result",
     "data": {
      "text/plain": "array([[0, 5],\n       [5, 0]])"
     },
     "metadata": {},
     "execution_count": 431
    }
   ],
   "source": [
    "np.rot90(m, -1)"
   ]
  },
  {
   "cell_type": "code",
   "execution_count": 432,
   "metadata": {},
   "outputs": [
    {
     "output_type": "execute_result",
     "data": {
      "text/plain": "array([[0, 5],\n       [5, 0]])"
     },
     "metadata": {},
     "execution_count": 432
    }
   ],
   "source": [
    "np.rot90(m, 3)"
   ]
  },
  {
   "cell_type": "code",
   "execution_count": 433,
   "metadata": {},
   "outputs": [],
   "source": [
    "x =  np.flipud(np.arange(4).reshape((2,-1)))"
   ]
  },
  {
   "cell_type": "code",
   "execution_count": 434,
   "metadata": {},
   "outputs": [
    {
     "output_type": "execute_result",
     "data": {
      "text/plain": "array([[2, 3],\n       [0, 1]])"
     },
     "metadata": {},
     "execution_count": 434
    }
   ],
   "source": [
    "x"
   ]
  },
  {
   "cell_type": "code",
   "execution_count": 435,
   "metadata": {
    "tags": []
   },
   "outputs": [
    {
     "output_type": "stream",
     "name": "stdout",
     "text": "[[2 3]\n [0 1]]\n[[3 1]\n [2 0]]\n[[1 0]\n [3 2]]\n[[0 2]\n [1 3]]\n"
    }
   ],
   "source": [
    "for i in range(4):\n",
    "    print(np.rot90(x,i))"
   ]
  },
  {
   "cell_type": "code",
   "execution_count": 436,
   "metadata": {},
   "outputs": [],
   "source": [
    "import matplotlib.pyplot as plt\n",
    "%matplotlib inline"
   ]
  },
  {
   "cell_type": "code",
   "execution_count": 437,
   "metadata": {},
   "outputs": [
    {
     "output_type": "execute_result",
     "data": {
      "text/plain": "(-1.0, 2.0)"
     },
     "metadata": {},
     "execution_count": 437
    },
    {
     "output_type": "display_data",
     "data": {
      "text/plain": "<Figure size 432x288 with 1 Axes>",
      "image/svg+xml": "<?xml version=\"1.0\" encoding=\"utf-8\" standalone=\"no\"?>\n<!DOCTYPE svg PUBLIC \"-//W3C//DTD SVG 1.1//EN\"\n  \"http://www.w3.org/Graphics/SVG/1.1/DTD/svg11.dtd\">\n<!-- Created with matplotlib (https://matplotlib.org/) -->\n<svg height=\"252.317344pt\" version=\"1.1\" viewBox=\"0 0 271.074375 252.317344\" width=\"271.074375pt\" xmlns=\"http://www.w3.org/2000/svg\" xmlns:xlink=\"http://www.w3.org/1999/xlink\">\n <metadata>\n  <rdf:RDF xmlns:cc=\"http://creativecommons.org/ns#\" xmlns:dc=\"http://purl.org/dc/elements/1.1/\" xmlns:rdf=\"http://www.w3.org/1999/02/22-rdf-syntax-ns#\">\n   <cc:Work>\n    <dc:type rdf:resource=\"http://purl.org/dc/dcmitype/StillImage\"/>\n    <dc:date>2020-08-06T15:09:57.884483</dc:date>\n    <dc:format>image/svg+xml</dc:format>\n    <dc:creator>\n     <cc:Agent>\n      <dc:title>Matplotlib v3.3.0, https://matplotlib.org/</dc:title>\n     </cc:Agent>\n    </dc:creator>\n   </cc:Work>\n  </rdf:RDF>\n </metadata>\n <defs>\n  <style type=\"text/css\">*{stroke-linecap:butt;stroke-linejoin:round;}</style>\n </defs>\n <g id=\"figure_1\">\n  <g id=\"patch_1\">\n   <path d=\"M 0 252.317344 \nL 271.074375 252.317344 \nL 271.074375 0 \nL 0 0 \nz\n\" style=\"fill:none;\"/>\n  </g>\n  <g id=\"axes_1\">\n   <g id=\"patch_2\">\n    <path d=\"M 38.482813 228.439219 \nL 255.922813 228.439219 \nL 255.922813 10.999219 \nL 38.482813 10.999219 \nz\n\" style=\"fill:#ffffff;\"/>\n   </g>\n   <g id=\"patch_3\">\n    <path clip-path=\"url(#pf76f81f034)\" d=\"M 190.690812 155.959219 \nL 183.442813 157.771219 \nL 183.442813 155.995459 \nL 110.962812 155.995459 \nL 110.962812 155.922979 \nL 183.442813 155.922979 \nL 183.442813 154.147219 \nz\n\" style=\"stroke:#000000;stroke-linejoin:miter;\"/>\n   </g>\n   <g id=\"patch_4\">\n    <path clip-path=\"url(#pf76f81f034)\" d=\"M 110.962812 76.231219 \nL 112.774812 83.479219 \nL 110.999053 83.479219 \nL 110.999053 155.959219 \nL 110.926572 155.959219 \nL 110.926572 83.479219 \nL 109.150813 83.479219 \nz\n\" style=\"fill:#0000ff;stroke:#0000ff;stroke-linejoin:miter;\"/>\n   </g>\n   <g id=\"matplotlib.axis_1\">\n    <g id=\"xtick_1\">\n     <g id=\"line2d_1\">\n      <path clip-path=\"url(#pf76f81f034)\" d=\"M 38.482813 228.439219 \nL 38.482813 10.999219 \n\" style=\"fill:none;stroke:#b0b0b0;stroke-linecap:square;stroke-width:0.8;\"/>\n     </g>\n     <g id=\"line2d_2\">\n      <defs>\n       <path d=\"M 0 0 \nL 0 3.5 \n\" id=\"mf9d9478aa2\" style=\"stroke:#000000;stroke-width:0.8;\"/>\n      </defs>\n      <g>\n       <use style=\"stroke:#000000;stroke-width:0.8;\" x=\"38.482813\" xlink:href=\"#mf9d9478aa2\" y=\"228.439219\"/>\n      </g>\n     </g>\n     <g id=\"text_1\">\n      <!-- −1.0 -->\n      <g transform=\"translate(26.341406 243.037656)scale(0.1 -0.1)\">\n       <defs>\n        <path d=\"M 10.59375 35.5 \nL 73.1875 35.5 \nL 73.1875 27.203125 \nL 10.59375 27.203125 \nz\n\" id=\"DejaVuSans-8722\"/>\n        <path d=\"M 12.40625 8.296875 \nL 28.515625 8.296875 \nL 28.515625 63.921875 \nL 10.984375 60.40625 \nL 10.984375 69.390625 \nL 28.421875 72.90625 \nL 38.28125 72.90625 \nL 38.28125 8.296875 \nL 54.390625 8.296875 \nL 54.390625 0 \nL 12.40625 0 \nz\n\" id=\"DejaVuSans-49\"/>\n        <path d=\"M 10.6875 12.40625 \nL 21 12.40625 \nL 21 0 \nL 10.6875 0 \nz\n\" id=\"DejaVuSans-46\"/>\n        <path d=\"M 31.78125 66.40625 \nQ 24.171875 66.40625 20.328125 58.90625 \nQ 16.5 51.421875 16.5 36.375 \nQ 16.5 21.390625 20.328125 13.890625 \nQ 24.171875 6.390625 31.78125 6.390625 \nQ 39.453125 6.390625 43.28125 13.890625 \nQ 47.125 21.390625 47.125 36.375 \nQ 47.125 51.421875 43.28125 58.90625 \nQ 39.453125 66.40625 31.78125 66.40625 \nz\nM 31.78125 74.21875 \nQ 44.046875 74.21875 50.515625 64.515625 \nQ 56.984375 54.828125 56.984375 36.375 \nQ 56.984375 17.96875 50.515625 8.265625 \nQ 44.046875 -1.421875 31.78125 -1.421875 \nQ 19.53125 -1.421875 13.0625 8.265625 \nQ 6.59375 17.96875 6.59375 36.375 \nQ 6.59375 54.828125 13.0625 64.515625 \nQ 19.53125 74.21875 31.78125 74.21875 \nz\n\" id=\"DejaVuSans-48\"/>\n       </defs>\n       <use xlink:href=\"#DejaVuSans-8722\"/>\n       <use x=\"83.789062\" xlink:href=\"#DejaVuSans-49\"/>\n       <use x=\"147.412109\" xlink:href=\"#DejaVuSans-46\"/>\n       <use x=\"179.199219\" xlink:href=\"#DejaVuSans-48\"/>\n      </g>\n     </g>\n    </g>\n    <g id=\"xtick_2\">\n     <g id=\"line2d_3\">\n      <path clip-path=\"url(#pf76f81f034)\" d=\"M 74.722813 228.439219 \nL 74.722813 10.999219 \n\" style=\"fill:none;stroke:#b0b0b0;stroke-linecap:square;stroke-width:0.8;\"/>\n     </g>\n     <g id=\"line2d_4\">\n      <g>\n       <use style=\"stroke:#000000;stroke-width:0.8;\" x=\"74.722813\" xlink:href=\"#mf9d9478aa2\" y=\"228.439219\"/>\n      </g>\n     </g>\n     <g id=\"text_2\">\n      <!-- −0.5 -->\n      <g transform=\"translate(62.581406 243.037656)scale(0.1 -0.1)\">\n       <defs>\n        <path d=\"M 10.796875 72.90625 \nL 49.515625 72.90625 \nL 49.515625 64.59375 \nL 19.828125 64.59375 \nL 19.828125 46.734375 \nQ 21.96875 47.46875 24.109375 47.828125 \nQ 26.265625 48.1875 28.421875 48.1875 \nQ 40.625 48.1875 47.75 41.5 \nQ 54.890625 34.8125 54.890625 23.390625 \nQ 54.890625 11.625 47.5625 5.09375 \nQ 40.234375 -1.421875 26.90625 -1.421875 \nQ 22.3125 -1.421875 17.546875 -0.640625 \nQ 12.796875 0.140625 7.71875 1.703125 \nL 7.71875 11.625 \nQ 12.109375 9.234375 16.796875 8.0625 \nQ 21.484375 6.890625 26.703125 6.890625 \nQ 35.15625 6.890625 40.078125 11.328125 \nQ 45.015625 15.765625 45.015625 23.390625 \nQ 45.015625 31 40.078125 35.4375 \nQ 35.15625 39.890625 26.703125 39.890625 \nQ 22.75 39.890625 18.8125 39.015625 \nQ 14.890625 38.140625 10.796875 36.28125 \nz\n\" id=\"DejaVuSans-53\"/>\n       </defs>\n       <use xlink:href=\"#DejaVuSans-8722\"/>\n       <use x=\"83.789062\" xlink:href=\"#DejaVuSans-48\"/>\n       <use x=\"147.412109\" xlink:href=\"#DejaVuSans-46\"/>\n       <use x=\"179.199219\" xlink:href=\"#DejaVuSans-53\"/>\n      </g>\n     </g>\n    </g>\n    <g id=\"xtick_3\">\n     <g id=\"line2d_5\">\n      <path clip-path=\"url(#pf76f81f034)\" d=\"M 110.962812 228.439219 \nL 110.962812 10.999219 \n\" style=\"fill:none;stroke:#b0b0b0;stroke-linecap:square;stroke-width:0.8;\"/>\n     </g>\n     <g id=\"line2d_6\">\n      <g>\n       <use style=\"stroke:#000000;stroke-width:0.8;\" x=\"110.962812\" xlink:href=\"#mf9d9478aa2\" y=\"228.439219\"/>\n      </g>\n     </g>\n     <g id=\"text_3\">\n      <!-- 0.0 -->\n      <g transform=\"translate(103.01125 243.037656)scale(0.1 -0.1)\">\n       <use xlink:href=\"#DejaVuSans-48\"/>\n       <use x=\"63.623047\" xlink:href=\"#DejaVuSans-46\"/>\n       <use x=\"95.410156\" xlink:href=\"#DejaVuSans-48\"/>\n      </g>\n     </g>\n    </g>\n    <g id=\"xtick_4\">\n     <g id=\"line2d_7\">\n      <path clip-path=\"url(#pf76f81f034)\" d=\"M 147.202812 228.439219 \nL 147.202812 10.999219 \n\" style=\"fill:none;stroke:#b0b0b0;stroke-linecap:square;stroke-width:0.8;\"/>\n     </g>\n     <g id=\"line2d_8\">\n      <g>\n       <use style=\"stroke:#000000;stroke-width:0.8;\" x=\"147.202812\" xlink:href=\"#mf9d9478aa2\" y=\"228.439219\"/>\n      </g>\n     </g>\n     <g id=\"text_4\">\n      <!-- 0.5 -->\n      <g transform=\"translate(139.25125 243.037656)scale(0.1 -0.1)\">\n       <use xlink:href=\"#DejaVuSans-48\"/>\n       <use x=\"63.623047\" xlink:href=\"#DejaVuSans-46\"/>\n       <use x=\"95.410156\" xlink:href=\"#DejaVuSans-53\"/>\n      </g>\n     </g>\n    </g>\n    <g id=\"xtick_5\">\n     <g id=\"line2d_9\">\n      <path clip-path=\"url(#pf76f81f034)\" d=\"M 183.442813 228.439219 \nL 183.442813 10.999219 \n\" style=\"fill:none;stroke:#b0b0b0;stroke-linecap:square;stroke-width:0.8;\"/>\n     </g>\n     <g id=\"line2d_10\">\n      <g>\n       <use style=\"stroke:#000000;stroke-width:0.8;\" x=\"183.442813\" xlink:href=\"#mf9d9478aa2\" y=\"228.439219\"/>\n      </g>\n     </g>\n     <g id=\"text_5\">\n      <!-- 1.0 -->\n      <g transform=\"translate(175.49125 243.037656)scale(0.1 -0.1)\">\n       <use xlink:href=\"#DejaVuSans-49\"/>\n       <use x=\"63.623047\" xlink:href=\"#DejaVuSans-46\"/>\n       <use x=\"95.410156\" xlink:href=\"#DejaVuSans-48\"/>\n      </g>\n     </g>\n    </g>\n    <g id=\"xtick_6\">\n     <g id=\"line2d_11\">\n      <path clip-path=\"url(#pf76f81f034)\" d=\"M 219.682812 228.439219 \nL 219.682812 10.999219 \n\" style=\"fill:none;stroke:#b0b0b0;stroke-linecap:square;stroke-width:0.8;\"/>\n     </g>\n     <g id=\"line2d_12\">\n      <g>\n       <use style=\"stroke:#000000;stroke-width:0.8;\" x=\"219.682812\" xlink:href=\"#mf9d9478aa2\" y=\"228.439219\"/>\n      </g>\n     </g>\n     <g id=\"text_6\">\n      <!-- 1.5 -->\n      <g transform=\"translate(211.73125 243.037656)scale(0.1 -0.1)\">\n       <use xlink:href=\"#DejaVuSans-49\"/>\n       <use x=\"63.623047\" xlink:href=\"#DejaVuSans-46\"/>\n       <use x=\"95.410156\" xlink:href=\"#DejaVuSans-53\"/>\n      </g>\n     </g>\n    </g>\n    <g id=\"xtick_7\">\n     <g id=\"line2d_13\">\n      <path clip-path=\"url(#pf76f81f034)\" d=\"M 255.922812 228.439219 \nL 255.922812 10.999219 \n\" style=\"fill:none;stroke:#b0b0b0;stroke-linecap:square;stroke-width:0.8;\"/>\n     </g>\n     <g id=\"line2d_14\">\n      <g>\n       <use style=\"stroke:#000000;stroke-width:0.8;\" x=\"255.922812\" xlink:href=\"#mf9d9478aa2\" y=\"228.439219\"/>\n      </g>\n     </g>\n     <g id=\"text_7\">\n      <!-- 2.0 -->\n      <g transform=\"translate(247.97125 243.037656)scale(0.1 -0.1)\">\n       <defs>\n        <path d=\"M 19.1875 8.296875 \nL 53.609375 8.296875 \nL 53.609375 0 \nL 7.328125 0 \nL 7.328125 8.296875 \nQ 12.9375 14.109375 22.625 23.890625 \nQ 32.328125 33.6875 34.8125 36.53125 \nQ 39.546875 41.84375 41.421875 45.53125 \nQ 43.3125 49.21875 43.3125 52.78125 \nQ 43.3125 58.59375 39.234375 62.25 \nQ 35.15625 65.921875 28.609375 65.921875 \nQ 23.96875 65.921875 18.8125 64.3125 \nQ 13.671875 62.703125 7.8125 59.421875 \nL 7.8125 69.390625 \nQ 13.765625 71.78125 18.9375 73 \nQ 24.125 74.21875 28.421875 74.21875 \nQ 39.75 74.21875 46.484375 68.546875 \nQ 53.21875 62.890625 53.21875 53.421875 \nQ 53.21875 48.921875 51.53125 44.890625 \nQ 49.859375 40.875 45.40625 35.40625 \nQ 44.1875 33.984375 37.640625 27.21875 \nQ 31.109375 20.453125 19.1875 8.296875 \nz\n\" id=\"DejaVuSans-50\"/>\n       </defs>\n       <use xlink:href=\"#DejaVuSans-50\"/>\n       <use x=\"63.623047\" xlink:href=\"#DejaVuSans-46\"/>\n       <use x=\"95.410156\" xlink:href=\"#DejaVuSans-48\"/>\n      </g>\n     </g>\n    </g>\n   </g>\n   <g id=\"matplotlib.axis_2\">\n    <g id=\"ytick_1\">\n     <g id=\"line2d_15\">\n      <path clip-path=\"url(#pf76f81f034)\" d=\"M 38.482813 228.439219 \nL 255.922813 228.439219 \n\" style=\"fill:none;stroke:#b0b0b0;stroke-linecap:square;stroke-width:0.8;\"/>\n     </g>\n     <g id=\"line2d_16\">\n      <defs>\n       <path d=\"M 0 0 \nL -3.5 0 \n\" id=\"md90f845dc1\" style=\"stroke:#000000;stroke-width:0.8;\"/>\n      </defs>\n      <g>\n       <use style=\"stroke:#000000;stroke-width:0.8;\" x=\"38.482813\" xlink:href=\"#md90f845dc1\" y=\"228.439219\"/>\n      </g>\n     </g>\n     <g id=\"text_8\">\n      <!-- −1.0 -->\n      <g transform=\"translate(7.2 232.238437)scale(0.1 -0.1)\">\n       <use xlink:href=\"#DejaVuSans-8722\"/>\n       <use x=\"83.789062\" xlink:href=\"#DejaVuSans-49\"/>\n       <use x=\"147.412109\" xlink:href=\"#DejaVuSans-46\"/>\n       <use x=\"179.199219\" xlink:href=\"#DejaVuSans-48\"/>\n      </g>\n     </g>\n    </g>\n    <g id=\"ytick_2\">\n     <g id=\"line2d_17\">\n      <path clip-path=\"url(#pf76f81f034)\" d=\"M 38.482813 192.199219 \nL 255.922813 192.199219 \n\" style=\"fill:none;stroke:#b0b0b0;stroke-linecap:square;stroke-width:0.8;\"/>\n     </g>\n     <g id=\"line2d_18\">\n      <g>\n       <use style=\"stroke:#000000;stroke-width:0.8;\" x=\"38.482813\" xlink:href=\"#md90f845dc1\" y=\"192.199219\"/>\n      </g>\n     </g>\n     <g id=\"text_9\">\n      <!-- −0.5 -->\n      <g transform=\"translate(7.2 195.998437)scale(0.1 -0.1)\">\n       <use xlink:href=\"#DejaVuSans-8722\"/>\n       <use x=\"83.789062\" xlink:href=\"#DejaVuSans-48\"/>\n       <use x=\"147.412109\" xlink:href=\"#DejaVuSans-46\"/>\n       <use x=\"179.199219\" xlink:href=\"#DejaVuSans-53\"/>\n      </g>\n     </g>\n    </g>\n    <g id=\"ytick_3\">\n     <g id=\"line2d_19\">\n      <path clip-path=\"url(#pf76f81f034)\" d=\"M 38.482813 155.959219 \nL 255.922813 155.959219 \n\" style=\"fill:none;stroke:#b0b0b0;stroke-linecap:square;stroke-width:0.8;\"/>\n     </g>\n     <g id=\"line2d_20\">\n      <g>\n       <use style=\"stroke:#000000;stroke-width:0.8;\" x=\"38.482813\" xlink:href=\"#md90f845dc1\" y=\"155.959219\"/>\n      </g>\n     </g>\n     <g id=\"text_10\">\n      <!-- 0.0 -->\n      <g transform=\"translate(15.579688 159.758437)scale(0.1 -0.1)\">\n       <use xlink:href=\"#DejaVuSans-48\"/>\n       <use x=\"63.623047\" xlink:href=\"#DejaVuSans-46\"/>\n       <use x=\"95.410156\" xlink:href=\"#DejaVuSans-48\"/>\n      </g>\n     </g>\n    </g>\n    <g id=\"ytick_4\">\n     <g id=\"line2d_21\">\n      <path clip-path=\"url(#pf76f81f034)\" d=\"M 38.482813 119.719219 \nL 255.922813 119.719219 \n\" style=\"fill:none;stroke:#b0b0b0;stroke-linecap:square;stroke-width:0.8;\"/>\n     </g>\n     <g id=\"line2d_22\">\n      <g>\n       <use style=\"stroke:#000000;stroke-width:0.8;\" x=\"38.482813\" xlink:href=\"#md90f845dc1\" y=\"119.719219\"/>\n      </g>\n     </g>\n     <g id=\"text_11\">\n      <!-- 0.5 -->\n      <g transform=\"translate(15.579688 123.518437)scale(0.1 -0.1)\">\n       <use xlink:href=\"#DejaVuSans-48\"/>\n       <use x=\"63.623047\" xlink:href=\"#DejaVuSans-46\"/>\n       <use x=\"95.410156\" xlink:href=\"#DejaVuSans-53\"/>\n      </g>\n     </g>\n    </g>\n    <g id=\"ytick_5\">\n     <g id=\"line2d_23\">\n      <path clip-path=\"url(#pf76f81f034)\" d=\"M 38.482813 83.479219 \nL 255.922813 83.479219 \n\" style=\"fill:none;stroke:#b0b0b0;stroke-linecap:square;stroke-width:0.8;\"/>\n     </g>\n     <g id=\"line2d_24\">\n      <g>\n       <use style=\"stroke:#000000;stroke-width:0.8;\" x=\"38.482813\" xlink:href=\"#md90f845dc1\" y=\"83.479219\"/>\n      </g>\n     </g>\n     <g id=\"text_12\">\n      <!-- 1.0 -->\n      <g transform=\"translate(15.579688 87.278437)scale(0.1 -0.1)\">\n       <use xlink:href=\"#DejaVuSans-49\"/>\n       <use x=\"63.623047\" xlink:href=\"#DejaVuSans-46\"/>\n       <use x=\"95.410156\" xlink:href=\"#DejaVuSans-48\"/>\n      </g>\n     </g>\n    </g>\n    <g id=\"ytick_6\">\n     <g id=\"line2d_25\">\n      <path clip-path=\"url(#pf76f81f034)\" d=\"M 38.482813 47.239219 \nL 255.922813 47.239219 \n\" style=\"fill:none;stroke:#b0b0b0;stroke-linecap:square;stroke-width:0.8;\"/>\n     </g>\n     <g id=\"line2d_26\">\n      <g>\n       <use style=\"stroke:#000000;stroke-width:0.8;\" x=\"38.482813\" xlink:href=\"#md90f845dc1\" y=\"47.239219\"/>\n      </g>\n     </g>\n     <g id=\"text_13\">\n      <!-- 1.5 -->\n      <g transform=\"translate(15.579688 51.038437)scale(0.1 -0.1)\">\n       <use xlink:href=\"#DejaVuSans-49\"/>\n       <use x=\"63.623047\" xlink:href=\"#DejaVuSans-46\"/>\n       <use x=\"95.410156\" xlink:href=\"#DejaVuSans-53\"/>\n      </g>\n     </g>\n    </g>\n    <g id=\"ytick_7\">\n     <g id=\"line2d_27\">\n      <path clip-path=\"url(#pf76f81f034)\" d=\"M 38.482813 10.999219 \nL 255.922813 10.999219 \n\" style=\"fill:none;stroke:#b0b0b0;stroke-linecap:square;stroke-width:0.8;\"/>\n     </g>\n     <g id=\"line2d_28\">\n      <g>\n       <use style=\"stroke:#000000;stroke-width:0.8;\" x=\"38.482813\" xlink:href=\"#md90f845dc1\" y=\"10.999219\"/>\n      </g>\n     </g>\n     <g id=\"text_14\">\n      <!-- 2.0 -->\n      <g transform=\"translate(15.579688 14.798437)scale(0.1 -0.1)\">\n       <use xlink:href=\"#DejaVuSans-50\"/>\n       <use x=\"63.623047\" xlink:href=\"#DejaVuSans-46\"/>\n       <use x=\"95.410156\" xlink:href=\"#DejaVuSans-48\"/>\n      </g>\n     </g>\n    </g>\n   </g>\n   <g id=\"patch_5\">\n    <path d=\"M 38.482813 228.439219 \nL 38.482813 10.999219 \n\" style=\"fill:none;stroke:#000000;stroke-linecap:square;stroke-linejoin:miter;stroke-width:0.8;\"/>\n   </g>\n   <g id=\"patch_6\">\n    <path d=\"M 255.922813 228.439219 \nL 255.922813 10.999219 \n\" style=\"fill:none;stroke:#000000;stroke-linecap:square;stroke-linejoin:miter;stroke-width:0.8;\"/>\n   </g>\n   <g id=\"patch_7\">\n    <path d=\"M 38.482813 228.439219 \nL 255.922812 228.439219 \n\" style=\"fill:none;stroke:#000000;stroke-linecap:square;stroke-linejoin:miter;stroke-width:0.8;\"/>\n   </g>\n   <g id=\"patch_8\">\n    <path d=\"M 38.482813 10.999219 \nL 255.922812 10.999219 \n\" style=\"fill:none;stroke:#000000;stroke-linecap:square;stroke-linejoin:miter;stroke-width:0.8;\"/>\n   </g>\n  </g>\n </g>\n <defs>\n  <clipPath id=\"pf76f81f034\">\n   <rect height=\"217.44\" width=\"217.44\" x=\"38.482813\" y=\"10.999219\"/>\n  </clipPath>\n </defs>\n</svg>\n",
      "image/png": "[encoded data removed]"
     },
     "metadata": {
      "needs_background": "light"
     }
    }
   ],
   "source": [
    "\n",
    "X = np.array((0))\n",
    "Y = np.array((0))\n",
    "E= np.array([[1, 0],\n",
    "             [0, 1]])\n",
    "\n",
    "\n",
    "fig, ax = plt.subplots()\n",
    "q1 = ax.arrow(X, Y, E[0, 0], E[1, 0], head_width=0.05, head_length=0.1, fc='k', ec='k')\n",
    "q2 = ax.arrow(X, Y, E[0, 1], E[1, 1], head_width=0.05, head_length=0.1, fc='b', ec='b')\n",
    "plt.grid()\n",
    "ax.set_aspect('equal')\n",
    "\n",
    "plt.xlim(-1,2)\n",
    "plt.ylim(-1,2)"
   ]
  },
  {
   "cell_type": "code",
   "execution_count": 438,
   "metadata": {},
   "outputs": [],
   "source": [
    "rot_R = np.array([[ 0, 1],\n",
    "                  [-1, 0]])"
   ]
  },
  {
   "cell_type": "code",
   "execution_count": 439,
   "metadata": {},
   "outputs": [],
   "source": [
    "rotate_90_deg = np.asarray([ [[ 1, 0],\n",
    "                        [ 0, 1]],\n",
    "                       [[ 0, 1],\n",
    "                        [-1, 0]],\n",
    "                       [[-1, 0],\n",
    "                        [ 0,-1]],\n",
    "                       [[ 0,-1],\n",
    "                        [ 1, 0]] ])"
   ]
  },
  {
   "cell_type": "code",
   "execution_count": 440,
   "metadata": {},
   "outputs": [
    {
     "output_type": "execute_result",
     "data": {
      "text/plain": "array([[ 0,  1],\n       [-1,  0]])"
     },
     "metadata": {},
     "execution_count": 440
    }
   ],
   "source": [
    "rotate_90_deg[1]"
   ]
  },
  {
   "cell_type": "code",
   "execution_count": 441,
   "metadata": {},
   "outputs": [],
   "source": [
    "def setup_grid(__num_ranks):\n",
    "\n",
    "    for ranks_x in range(math.floor( math.sqrt(__num_ranks) ), 0, -1):\n",
    "        if __num_ranks % ranks_x == 0:\n",
    "            break\n",
    "    __size = (__num_ranks // ranks_x, ranks_x)\n",
    "    return __size"
   ]
  },
  {
   "cell_type": "code",
   "execution_count": 442,
   "metadata": {},
   "outputs": [
    {
     "output_type": "execute_result",
     "data": {
      "text/plain": "(6, 4)"
     },
     "metadata": {},
     "execution_count": 442
    }
   ],
   "source": [
    "setup_grid(num_ranks)"
   ]
  },
  {
   "cell_type": "code",
   "execution_count": 443,
   "metadata": {},
   "outputs": [
    {
     "output_type": "execute_result",
     "data": {
      "text/plain": "dict_items([('U', 2), ('D', 5), ('L', 4), ('R', 1)])"
     },
     "metadata": {},
     "execution_count": 443
    }
   ],
   "source": [
    "rank_neighbors.items()"
   ]
  },
  {
   "cell_type": "code",
   "execution_count": 444,
   "metadata": {},
   "outputs": [
    {
     "output_type": "execute_result",
     "data": {
      "text/plain": "2"
     },
     "metadata": {},
     "execution_count": 444
    }
   ],
   "source": [
    "rank_neighbors['U']"
   ]
  },
  {
   "cell_type": "code",
   "execution_count": 445,
   "metadata": {},
   "outputs": [
    {
     "output_type": "execute_result",
     "data": {
      "text/plain": "['U', 'D', 'L', 'R']"
     },
     "metadata": {},
     "execution_count": 445
    }
   ],
   "source": [
    "[i for i in cube_neighbors[1]]"
   ]
  },
  {
   "cell_type": "code",
   "execution_count": 446,
   "metadata": {},
   "outputs": [],
   "source": [
    "ttt = [cube_neighbors[1][d] for d in ['U', 'D', 'L', 'R']]"
   ]
  },
  {
   "cell_type": "code",
   "execution_count": 447,
   "metadata": {},
   "outputs": [
    {
     "output_type": "execute_result",
     "data": {
      "text/plain": "[[3, 3], [6, 0], [5, 1], [2, 0]]"
     },
     "metadata": {},
     "execution_count": 447
    }
   ],
   "source": [
    "ttt"
   ]
  },
  {
   "cell_type": "code",
   "execution_count": 448,
   "metadata": {},
   "outputs": [],
   "source": [
    "def __calculate_rank_grid(tile, tile2ranks, ranks_per_axis, rotation):\n",
    "    return np.rot90(np.flipud(np.asarray(tile2ranks[tile]).reshape(ranks_per_axis, -1)), rotation)"
   ]
  },
  {
   "cell_type": "code",
   "execution_count": 449,
   "metadata": {},
   "outputs": [
    {
     "output_type": "execute_result",
     "data": {
      "text/plain": "array([[4, 6],\n       [5, 7]])"
     },
     "metadata": {},
     "execution_count": 449
    }
   ],
   "source": [
    "__calculate_rank_grid(2, ranks_placement, 2, 3)"
   ]
  },
  {
   "cell_type": "code",
   "execution_count": 450,
   "metadata": {},
   "outputs": [
    {
     "output_type": "execute_result",
     "data": {
      "text/plain": "dict_keys(['U', 'D', 'L', 'R'])"
     },
     "metadata": {},
     "execution_count": 450
    }
   ],
   "source": [
    "cube_neighbors[1].keys()"
   ]
  },
  {
   "cell_type": "code",
   "execution_count": 451,
   "metadata": {},
   "outputs": [
    {
     "output_type": "execute_result",
     "data": {
      "text/plain": "{6: 9999, 'U': [3, 3], 'D': [6, 0], 'L': [5, 1], 'R': [2, 0]}"
     },
     "metadata": {},
     "execution_count": 451
    }
   ],
   "source": [
    "tttt"
   ]
  },
  {
   "cell_type": "code",
   "execution_count": 452,
   "metadata": {},
   "outputs": [],
   "source": [
    "num_halo = 2\n",
    "global_rank = 0\n",
    "num_ranks = 24\n",
    "ranks_per_tile = 4"
   ]
  },
  {
   "cell_type": "code",
   "execution_count": 453,
   "metadata": {},
   "outputs": [],
   "source": [
    "def __rank_global2local():\n",
    "        \"\"\"Return local tile rank based on global rank, ranks per tile\"\"\"\n",
    "        return global_rank % ranks_per_tile"
   ]
  },
  {
   "cell_type": "code",
   "execution_count": 454,
   "metadata": {},
   "outputs": [],
   "source": [
    "local_rank = __rank_global2local()"
   ]
  },
  {
   "cell_type": "code",
   "execution_count": 455,
   "metadata": {},
   "outputs": [
    {
     "output_type": "execute_result",
     "data": {
      "text/plain": "0"
     },
     "metadata": {},
     "execution_count": 455
    }
   ],
   "source": [
    "local_rank"
   ]
  },
  {
   "cell_type": "code",
   "execution_count": 456,
   "metadata": {},
   "outputs": [],
   "source": [
    "size = __setup_grid(ranks_per_tile)"
   ]
  },
  {
   "cell_type": "code",
   "execution_count": 457,
   "metadata": {},
   "outputs": [],
   "source": [
    "def __setup_grid():\n",
    "        \"\"\"Distribute ranks onto a Cartesian grid of workers\"\"\"\n",
    "        for ranks_x in range(math.floor( math.sqrt(ranks_per_tile) ), 0, -1):\n",
    "            if ranks_per_tile % ranks_x == 0:\n",
    "                break\n",
    "        return (ranks_per_tile // ranks_x, ranks_x)"
   ]
  },
  {
   "cell_type": "code",
   "execution_count": 458,
   "metadata": {},
   "outputs": [],
   "source": [
    "def __rank_to_position(local_rank):\n",
    "        \"\"\"Find position of rank on worker grid\"\"\"\n",
    "        # sanity check ---------\n",
    "        # assert ( local_rank // size[1], local_rank % size[1] ) == np.where(rank_grid[tile] == global_rank), \\\n",
    "            # 'Check rank numbering consistency'\n",
    "        # ----------------------\n",
    "        return ( local_rank // size[1], local_rank % size[1] )"
   ]
  },
  {
   "cell_type": "code",
   "execution_count": 459,
   "metadata": {},
   "outputs": [],
   "source": [
    "tile_neighbors = {1: {'U': [3, 1], 'D': [6, 0], 'L': [5, 3], 'R': [2, 0]},\n",
    "                          2: {'U': [3, 0], 'D': [6, 1], 'L': [1, 0], 'R': [4, 3]},\n",
    "                          3: {'U': [5, 1], 'D': [2, 0], 'L': [1, 3], 'R': [4, 0]},\n",
    "                          4: {'U': [5, 0], 'D': [2, 1], 'L': [3, 0], 'R': [6, 3]},\n",
    "                          5: {'U': [1, 1], 'D': [4, 0], 'L': [3, 3], 'R': [6, 0]},\n",
    "                          6: {'U': [1, 0], 'D': [4, 1], 'L': [5, 0], 'R': [2, 3]}}"
   ]
  },
  {
   "cell_type": "code",
   "execution_count": 460,
   "metadata": {},
   "outputs": [],
   "source": [
    "def __assign_ranks_tiles(num_ranks, ranks_per_tile):\n",
    "        \"\"\"Return dictionaries: rank->tile, tile->[ranks], tile->root rank\"\"\"\n",
    "        \n",
    "        rank2tile = {i: (i // ranks_per_tile) + 1 for i in range(num_ranks)} # 1-based tile numbering\n",
    "        \n",
    "        tile2ranks = dict()\n",
    "        for k, v in rank2tile.items():\n",
    "            tile2ranks.setdefault(v, list()).append(k)\n",
    "\n",
    "        tile2root = {v: k[0] for v, k in tile2ranks.items()}\n",
    "\n",
    "        return rank2tile, tile2ranks, tile2root"
   ]
  },
  {
   "cell_type": "code",
   "execution_count": 461,
   "metadata": {},
   "outputs": [],
   "source": [
    "def __calculate_rank_grid(tile, tile2ranks, ranks_per_axis, rotation=0):\n",
    "            \"\"\"Return rotated array containing square grid of tile's global ranks\"\"\"\n",
    "            return np.rot90(np.flipud(np.asarray(tile2ranks[tile]).reshape(ranks_per_axis, -1)), rotation)"
   ]
  },
  {
   "cell_type": "code",
   "execution_count": 462,
   "metadata": {},
   "outputs": [],
   "source": [
    "def __assign_rank_grid(tile, tile2ranks, tile_neighbors, ranks_per_axis):\n",
    "        \"\"\"Return dictionary of arrays containing all neighboring tiles' placements of global ranks\"\"\"\n",
    "        rank_grid = {tile: __calculate_rank_grid(tile, tile2ranks, ranks_per_axis)}\n",
    "        for k, v in tile_neighbors[tile].items():\n",
    "            rank_grid[k] = __calculate_rank_grid(v[0], tile2ranks, ranks_per_axis, v[1])\n",
    "        return rank_grid"
   ]
  },
  {
   "cell_type": "code",
   "execution_count": 463,
   "metadata": {},
   "outputs": [],
   "source": [
    "def __assign_rank_neighbors(global_rank, rank_grid, tile):\n",
    "        \"\"\"Return dictionary: global rank->global neighbor ranks\"\"\"\n",
    "        up_down_grid = np.vstack((rank_grid['U'], rank_grid[tile], rank_grid['D']))\n",
    "        left_right_grid = np.hstack((rank_grid['L'], rank_grid[tile], rank_grid['R'])) # tile numbering is 1-based\n",
    "\n",
    "        y_up_down_grid, x_up_down_grid = np.where(up_down_grid == global_rank)\n",
    "        y_left_right_grid, x_left_right_grid = np.where(left_right_grid == global_rank)\n",
    "        \n",
    "        return {'U': up_down_grid[(y_up_down_grid-1, x_up_down_grid)].item(),\n",
    "                'D': up_down_grid[(y_up_down_grid+1, x_up_down_grid)].item(),\n",
    "                'L': left_right_grid[(y_left_right_grid, x_left_right_grid-1)].item(),\n",
    "                'R': left_right_grid[(y_left_right_grid, x_left_right_grid+1)].item()}"
   ]
  },
  {
   "cell_type": "code",
   "execution_count": 464,
   "metadata": {},
   "outputs": [],
   "source": [
    "def __assign_ranks_tiles(num_ranks, ranks_per_tile):\n",
    "        \"\"\"Return dictionaries: rank->tile, tile->[ranks], tile->root rank\"\"\"\n",
    "        \n",
    "        rank2tile = {i: (i // ranks_per_tile) + 1 for i in range(num_ranks)} # 1-based tile numbering\n",
    "        \n",
    "        tile2ranks = dict()\n",
    "        for k, v in rank2tile.items():\n",
    "            tile2ranks.setdefault(v, list()).append(k)\n",
    "\n",
    "        tile2root = {v: k[0] for v, k in tile2ranks.items()}\n",
    "\n",
    "        return rank2tile, tile2ranks, tile2root"
   ]
  },
  {
   "cell_type": "code",
   "execution_count": 465,
   "metadata": {},
   "outputs": [],
   "source": [
    "def __rank_global2local():\n",
    "        \"\"\"Return local tile rank based on global rank, ranks per tile\"\"\"\n",
    "        return global_rank % ranks_per_tile"
   ]
  },
  {
   "cell_type": "code",
   "execution_count": 466,
   "metadata": {},
   "outputs": [],
   "source": [
    "rank2tile,\\\n",
    "tile2ranks, \\\n",
    "tile2root = __assign_ranks_tiles(num_ranks, ranks_per_tile)"
   ]
  },
  {
   "cell_type": "code",
   "execution_count": 467,
   "metadata": {},
   "outputs": [],
   "source": [
    "tile = rank2tile[global_rank] "
   ]
  },
  {
   "cell_type": "code",
   "execution_count": 468,
   "metadata": {},
   "outputs": [],
   "source": [
    "rank_grid = __assign_rank_grid(tile, tile2ranks, tile_neighbors, ranks_per_axis)"
   ]
  },
  {
   "cell_type": "code",
   "execution_count": 469,
   "metadata": {},
   "outputs": [
    {
     "output_type": "execute_result",
     "data": {
      "text/plain": "{1: array([[2, 3],\n        [0, 1]]),\n 'U': array([[11,  9],\n        [10,  8]]),\n 'D': array([[22, 23],\n        [20, 21]]),\n 'L': array([[16, 18],\n        [17, 19]]),\n 'R': array([[6, 7],\n        [4, 5]])}"
     },
     "metadata": {},
     "execution_count": 469
    }
   ],
   "source": [
    "rank_grid"
   ]
  },
  {
   "cell_type": "code",
   "execution_count": 470,
   "metadata": {},
   "outputs": [],
   "source": [
    "rank_neighbors = __assign_rank_neighbors(global_rank, rank_grid, tile)"
   ]
  },
  {
   "cell_type": "code",
   "execution_count": 471,
   "metadata": {},
   "outputs": [
    {
     "output_type": "execute_result",
     "data": {
      "text/plain": "{'U': 2, 'D': 22, 'L': 19, 'R': 1}"
     },
     "metadata": {},
     "execution_count": 471
    }
   ],
   "source": [
    "rank_neighbors"
   ]
  },
  {
   "cell_type": "code",
   "execution_count": 472,
   "metadata": {},
   "outputs": [
    {
     "output_type": "execute_result",
     "data": {
      "text/plain": "(array([1]), array([0]))"
     },
     "metadata": {},
     "execution_count": 472
    }
   ],
   "source": [
    "np.where(global_rank == rank_grid[tile])"
   ]
  },
  {
   "cell_type": "code",
   "execution_count": 473,
   "metadata": {},
   "outputs": [
    {
     "output_type": "execute_result",
     "data": {
      "text/plain": "array([[2, 3],\n       [0, 1]])"
     },
     "metadata": {},
     "execution_count": 473
    }
   ],
   "source": [
    "rank_grid[tile]"
   ]
  },
  {
   "cell_type": "code",
   "execution_count": 474,
   "metadata": {},
   "outputs": [],
   "source": [
    "nx = 8\n",
    "ny = 8\n",
    "nz = 3\n",
    "domain = [nz, ny, nx]"
   ]
  },
  {
   "cell_type": "code",
   "execution_count": 475,
   "metadata": {},
   "outputs": [],
   "source": [
    "def __setup_domain(shape, num_halo):\n",
    "        \"\"\"Distribute the points of the computational grid onto the Cartesian grid of workers\"\"\"\n",
    "        assert len(shape) == 3, \"Must pass a 3-dimensional shape\"\n",
    "        size_z = shape[0]\n",
    "        size_y = __distribute_to_bins(shape[1], size[0])\n",
    "        size_x = __distribute_to_bins(shape[2], size[1])\n",
    "\n",
    "        pos_y = __cumsum(size_y, initial_value=num_halo)\n",
    "        pos_x = __cumsum(size_x, initial_value=num_halo)\n",
    "\n",
    "        domains = []\n",
    "        shapes = []\n",
    "        for rank in range(ranks_per_tile):\n",
    "            pos = __rank_to_position(rank)\n",
    "            domains += [[ pos_y[pos[0]] - num_halo, pos_x[pos[1]] - num_halo, \\\n",
    "                          pos_y[pos[0] + 1] + num_halo, pos_x[pos[1] + 1] + num_halo ]]\n",
    "            shapes += [[ size_z, domains[rank][2] - domains[rank][0], \\\n",
    "                                 domains[rank][3] - domains[rank][1] ]]\n",
    "        \n",
    "        \n",
    "        domain, shape = domains[local_rank], shapes[local_rank]\n",
    "        max_shape = __find_max_shape(shapes)\n",
    "\n",
    "        return domains, shapes, domain, shape, max_shape"
   ]
  },
  {
   "cell_type": "code",
   "execution_count": 476,
   "metadata": {},
   "outputs": [],
   "source": [
    "def __distribute_to_bins(number, bins):\n",
    "    \"\"\"Distribute a number of elements to a number of bins\"\"\"\n",
    "    n = number // bins\n",
    "    bin_size = [n] * bins\n",
    "    # make bins in the middle slightly larger\n",
    "    extend = number - n * bins\n",
    "    if extend > 0:\n",
    "        start_extend = bins // 2 - extend // 2\n",
    "        bin_size[start_extend:start_extend + extend] = \\\n",
    "            [ n + 1 for n in bin_size[start_extend:start_extend + extend] ]\n",
    "    return bin_size\n",
    "\n",
    "    \n",
    "def __cumsum(array, initial_value=0):\n",
    "    \"\"\"Cumulative sum with an optional initial value (default is zero)\"\"\"\n",
    "    cumsum = [initial_value]\n",
    "    for i in array:\n",
    "        cumsum += [ cumsum[-1] + i ]\n",
    "    return cumsum\n",
    "\n",
    "def __find_max_shape(shapes):\n",
    "    max_shape = shapes[0]\n",
    "    for shape in shapes[1:]:\n",
    "        max_shape = list(map(max, zip(max_shape, shape)))\n",
    "    return max_shape"
   ]
  },
  {
   "cell_type": "code",
   "execution_count": null,
   "metadata": {},
   "outputs": [],
   "source": []
  },
  {
   "cell_type": "code",
   "execution_count": 477,
   "metadata": {},
   "outputs": [],
   "source": [
    "domains, shapes, domain, shape, max_shape = __setup_domain(domain, num_halo)"
   ]
  },
  {
   "cell_type": "code",
   "execution_count": 478,
   "metadata": {},
   "outputs": [
    {
     "output_type": "execute_result",
     "data": {
      "text/plain": "[[0, 0, 8, 8], [0, 4, 8, 12], [4, 0, 12, 8], [4, 4, 12, 12]]"
     },
     "metadata": {},
     "execution_count": 478
    }
   ],
   "source": [
    "domains"
   ]
  },
  {
   "cell_type": "code",
   "execution_count": 479,
   "metadata": {},
   "outputs": [
    {
     "output_type": "execute_result",
     "data": {
      "text/plain": "[0, 0, 8, 8]"
     },
     "metadata": {},
     "execution_count": 479
    }
   ],
   "source": [
    "domain"
   ]
  },
  {
   "cell_type": "code",
   "execution_count": 480,
   "metadata": {},
   "outputs": [
    {
     "output_type": "execute_result",
     "data": {
      "text/plain": "[3, 8, 8]"
     },
     "metadata": {},
     "execution_count": 480
    }
   ],
   "source": [
    "shape"
   ]
  },
  {
   "cell_type": "code",
   "execution_count": 481,
   "metadata": {},
   "outputs": [
    {
     "output_type": "execute_result",
     "data": {
      "text/plain": "[3, 8, 8]"
     },
     "metadata": {},
     "execution_count": 481
    }
   ],
   "source": [
    "max_shape"
   ]
  },
  {
   "cell_type": "code",
   "execution_count": 482,
   "metadata": {},
   "outputs": [
    {
     "output_type": "execute_result",
     "data": {
      "text/plain": "1"
     },
     "metadata": {},
     "execution_count": 482
    }
   ],
   "source": [
    "tile"
   ]
  },
  {
   "cell_type": "code",
   "execution_count": 483,
   "metadata": {},
   "outputs": [
    {
     "output_type": "execute_result",
     "data": {
      "text/plain": "True"
     },
     "metadata": {},
     "execution_count": 483
    }
   ],
   "source": [
    "-1 in tile2ranks[tile]+[-1]"
   ]
  },
  {
   "cell_type": "code",
   "execution_count": 484,
   "metadata": {},
   "outputs": [
    {
     "output_type": "execute_result",
     "data": {
      "text/plain": "[0, 1, 2, 3, -1]"
     },
     "metadata": {},
     "execution_count": 484
    }
   ],
   "source": [
    "tile2ranks[tile]+[-1]"
   ]
  },
  {
   "cell_type": "code",
   "execution_count": 485,
   "metadata": {},
   "outputs": [
    {
     "output_type": "execute_result",
     "data": {
      "text/plain": "[0, 1, 2, 3, -1]"
     },
     "metadata": {},
     "execution_count": 485
    }
   ],
   "source": [
    "tile2ranks[1]+[-1]"
   ]
  },
  {
   "cell_type": "code",
   "execution_count": 486,
   "metadata": {},
   "outputs": [],
   "source": [
    "import numpy as np\n",
    "ttt = np.arange(9).reshape((3,-1))"
   ]
  },
  {
   "cell_type": "code",
   "execution_count": 487,
   "metadata": {},
   "outputs": [
    {
     "output_type": "execute_result",
     "data": {
      "text/plain": "(3, 3)"
     },
     "metadata": {},
     "execution_count": 487
    }
   ],
   "source": [
    "ttt.shape"
   ]
  },
  {
   "cell_type": "code",
   "execution_count": 488,
   "metadata": {
    "tags": []
   },
   "outputs": [
    {
     "output_type": "stream",
     "name": "stdout",
     "text": "(3, 3)\n"
    }
   ],
   "source": [
    "print(str(ttt.shape))"
   ]
  },
  {
   "cell_type": "code",
   "execution_count": 489,
   "metadata": {},
   "outputs": [],
   "source": [
    "buffer_lr = np.arange(10).reshape((1,-1))\n",
    "buffer_ud = np.rot90(buffer_lr, -1)"
   ]
  },
  {
   "cell_type": "code",
   "execution_count": 490,
   "metadata": {},
   "outputs": [
    {
     "output_type": "execute_result",
     "data": {
      "text/plain": "array([[0, 1, 2, 3, 4, 5, 6, 7, 8, 9]])"
     },
     "metadata": {},
     "execution_count": 490
    }
   ],
   "source": [
    "buffer_lr"
   ]
  },
  {
   "cell_type": "code",
   "execution_count": 491,
   "metadata": {},
   "outputs": [
    {
     "output_type": "execute_result",
     "data": {
      "text/plain": "array([[9, 8, 7, 6, 5, 4, 3, 2, 1, 0]])"
     },
     "metadata": {},
     "execution_count": 491
    }
   ],
   "source": [
    "np.flip(buffer_lr)"
   ]
  },
  {
   "cell_type": "code",
   "execution_count": 492,
   "metadata": {},
   "outputs": [
    {
     "output_type": "execute_result",
     "data": {
      "text/plain": "array([[9],\n       [8],\n       [7],\n       [6],\n       [5],\n       [4],\n       [3],\n       [2],\n       [1],\n       [0]])"
     },
     "metadata": {},
     "execution_count": 492
    }
   ],
   "source": [
    "np.flip(buffer_ud)"
   ]
  },
  {
   "cell_type": "code",
   "execution_count": 493,
   "metadata": {},
   "outputs": [],
   "source": [
    "testdict = {'a': (88, True)}"
   ]
  },
  {
   "cell_type": "code",
   "execution_count": 494,
   "metadata": {},
   "outputs": [
    {
     "output_type": "execute_result",
     "data": {
      "text/plain": "88"
     },
     "metadata": {},
     "execution_count": 494
    }
   ],
   "source": [
    "testdict['a'][0]"
   ]
  },
  {
   "cell_type": "code",
   "execution_count": 495,
   "metadata": {},
   "outputs": [],
   "source": [
    "testdict['b'] = (99, 1!=0)"
   ]
  },
  {
   "cell_type": "code",
   "execution_count": 496,
   "metadata": {},
   "outputs": [
    {
     "output_type": "execute_result",
     "data": {
      "text/plain": "(99, True)"
     },
     "metadata": {},
     "execution_count": 496
    }
   ],
   "source": [
    "testdict['b']"
   ]
  },
  {
   "cell_type": "code",
   "execution_count": 497,
   "metadata": {},
   "outputs": [],
   "source": [
    "cube = np.arange(1024*1024*128).reshape(1024,1024,-1)"
   ]
  },
  {
   "cell_type": "code",
   "execution_count": 498,
   "metadata": {},
   "outputs": [
    {
     "output_type": "execute_result",
     "data": {
      "text/plain": "array([[[        0,         1,         2, ...,       125,       126,\n               127],\n        [      128,       129,       130, ...,       253,       254,\n               255],\n        [      256,       257,       258, ...,       381,       382,\n               383],\n        ...,\n        [   130688,    130689,    130690, ...,    130813,    130814,\n            130815],\n        [   130816,    130817,    130818, ...,    130941,    130942,\n            130943],\n        [   130944,    130945,    130946, ...,    131069,    131070,\n            131071]],\n\n       [[   131072,    131073,    131074, ...,    131197,    131198,\n            131199],\n        [   131200,    131201,    131202, ...,    131325,    131326,\n            131327],\n        [   131328,    131329,    131330, ...,    131453,    131454,\n            131455],\n        ...,\n        [   261760,    261761,    261762, ...,    261885,    261886,\n            261887],\n        [   261888,    261889,    261890, ...,    262013,    262014,\n            262015],\n        [   262016,    262017,    262018, ...,    262141,    262142,\n            262143]],\n\n       [[   262144,    262145,    262146, ...,    262269,    262270,\n            262271],\n        [   262272,    262273,    262274, ...,    262397,    262398,\n            262399],\n        [   262400,    262401,    262402, ...,    262525,    262526,\n            262527],\n        ...,\n        [   392832,    392833,    392834, ...,    392957,    392958,\n            392959],\n        [   392960,    392961,    392962, ...,    393085,    393086,\n            393087],\n        [   393088,    393089,    393090, ...,    393213,    393214,\n            393215]],\n\n       ...,\n\n       [[133824512, 133824513, 133824514, ..., 133824637, 133824638,\n         133824639],\n        [133824640, 133824641, 133824642, ..., 133824765, 133824766,\n         133824767],\n        [133824768, 133824769, 133824770, ..., 133824893, 133824894,\n         133824895],\n        ...,\n        [133955200, 133955201, 133955202, ..., 133955325, 133955326,\n         133955327],\n        [133955328, 133955329, 133955330, ..., 133955453, 133955454,\n         133955455],\n        [133955456, 133955457, 133955458, ..., 133955581, 133955582,\n         133955583]],\n\n       [[133955584, 133955585, 133955586, ..., 133955709, 133955710,\n         133955711],\n        [133955712, 133955713, 133955714, ..., 133955837, 133955838,\n         133955839],\n        [133955840, 133955841, 133955842, ..., 133955965, 133955966,\n         133955967],\n        ...,\n        [134086272, 134086273, 134086274, ..., 134086397, 134086398,\n         134086399],\n        [134086400, 134086401, 134086402, ..., 134086525, 134086526,\n         134086527],\n        [134086528, 134086529, 134086530, ..., 134086653, 134086654,\n         134086655]],\n\n       [[134086656, 134086657, 134086658, ..., 134086781, 134086782,\n         134086783],\n        [134086784, 134086785, 134086786, ..., 134086909, 134086910,\n         134086911],\n        [134086912, 134086913, 134086914, ..., 134087037, 134087038,\n         134087039],\n        ...,\n        [134217344, 134217345, 134217346, ..., 134217469, 134217470,\n         134217471],\n        [134217472, 134217473, 134217474, ..., 134217597, 134217598,\n         134217599],\n        [134217600, 134217601, 134217602, ..., 134217725, 134217726,\n         134217727]]])"
     },
     "metadata": {},
     "execution_count": 498
    }
   ],
   "source": [
    "cube"
   ]
  },
  {
   "cell_type": "code",
   "execution_count": 499,
   "metadata": {},
   "outputs": [
    {
     "output_type": "execute_result",
     "data": {
      "text/plain": "array([[[   130944,    130945,    130946, ...,    131069,    131070,\n            131071],\n        [   130816,    130817,    130818, ...,    130941,    130942,\n            130943],\n        [   130688,    130689,    130690, ...,    130813,    130814,\n            130815],\n        ...,\n        [      256,       257,       258, ...,       381,       382,\n               383],\n        [      128,       129,       130, ...,       253,       254,\n               255],\n        [        0,         1,         2, ...,       125,       126,\n               127]],\n\n       [[   262016,    262017,    262018, ...,    262141,    262142,\n            262143],\n        [   261888,    261889,    261890, ...,    262013,    262014,\n            262015],\n        [   261760,    261761,    261762, ...,    261885,    261886,\n            261887],\n        ...,\n        [   131328,    131329,    131330, ...,    131453,    131454,\n            131455],\n        [   131200,    131201,    131202, ...,    131325,    131326,\n            131327],\n        [   131072,    131073,    131074, ...,    131197,    131198,\n            131199]],\n\n       [[   393088,    393089,    393090, ...,    393213,    393214,\n            393215],\n        [   392960,    392961,    392962, ...,    393085,    393086,\n            393087],\n        [   392832,    392833,    392834, ...,    392957,    392958,\n            392959],\n        ...,\n        [   262400,    262401,    262402, ...,    262525,    262526,\n            262527],\n        [   262272,    262273,    262274, ...,    262397,    262398,\n            262399],\n        [   262144,    262145,    262146, ...,    262269,    262270,\n            262271]],\n\n       ...,\n\n       [[133955456, 133955457, 133955458, ..., 133955581, 133955582,\n         133955583],\n        [133955328, 133955329, 133955330, ..., 133955453, 133955454,\n         133955455],\n        [133955200, 133955201, 133955202, ..., 133955325, 133955326,\n         133955327],\n        ...,\n        [133824768, 133824769, 133824770, ..., 133824893, 133824894,\n         133824895],\n        [133824640, 133824641, 133824642, ..., 133824765, 133824766,\n         133824767],\n        [133824512, 133824513, 133824514, ..., 133824637, 133824638,\n         133824639]],\n\n       [[134086528, 134086529, 134086530, ..., 134086653, 134086654,\n         134086655],\n        [134086400, 134086401, 134086402, ..., 134086525, 134086526,\n         134086527],\n        [134086272, 134086273, 134086274, ..., 134086397, 134086398,\n         134086399],\n        ...,\n        [133955840, 133955841, 133955842, ..., 133955965, 133955966,\n         133955967],\n        [133955712, 133955713, 133955714, ..., 133955837, 133955838,\n         133955839],\n        [133955584, 133955585, 133955586, ..., 133955709, 133955710,\n         133955711]],\n\n       [[134217600, 134217601, 134217602, ..., 134217725, 134217726,\n         134217727],\n        [134217472, 134217473, 134217474, ..., 134217597, 134217598,\n         134217599],\n        [134217344, 134217345, 134217346, ..., 134217469, 134217470,\n         134217471],\n        ...,\n        [134086912, 134086913, 134086914, ..., 134087037, 134087038,\n         134087039],\n        [134086784, 134086785, 134086786, ..., 134086909, 134086910,\n         134086911],\n        [134086656, 134086657, 134086658, ..., 134086781, 134086782,\n         134086783]]])"
     },
     "metadata": {},
     "execution_count": 499
    }
   ],
   "source": [
    "np.flip(cube, 1)"
   ]
  },
  {
   "cell_type": "code",
   "execution_count": 500,
   "metadata": {
    "tags": []
   },
   "outputs": [
    {
     "output_type": "stream",
     "name": "stdout",
     "text": "3.48 µs ± 211 ns per loop (mean ± std. dev. of 7 runs, 100000 loops each)\n"
    }
   ],
   "source": [
    "%%timeit\n",
    "np.flip(cube, 1)"
   ]
  },
  {
   "cell_type": "code",
   "execution_count": 501,
   "metadata": {},
   "outputs": [],
   "source": [
    "# this causes problems:\n",
    "# u_halo = np.arange(4*3*2).reshape(4,2,-1)\n",
    "# d_halo = np.flip(u_halo, axis=1)\n",
    "# l_halo = np.rot90(u_halo, 1, axes=(1,2))\n",
    "# r_halo = np.flip(l_halo, axis=2)"
   ]
  },
  {
   "cell_type": "code",
   "execution_count": 502,
   "metadata": {},
   "outputs": [],
   "source": [
    "u_halo = np.arange(4*3*2).reshape(4,2,-1)\n",
    "d_halo = np.flip(u_halo, axis=1)\n",
    "l_halo = np.rot90(u_halo, 1, axes=(1,2))\n",
    "r_halo = np.flip(l_halo, axis=2)"
   ]
  },
  {
   "cell_type": "code",
   "execution_count": 503,
   "metadata": {
    "tags": []
   },
   "outputs": [
    {
     "output_type": "execute_result",
     "data": {
      "text/plain": "array([[[ 0,  1,  2],\n        [ 3,  4,  5]],\n\n       [[ 6,  7,  8],\n        [ 9, 10, 11]],\n\n       [[12, 13, 14],\n        [15, 16, 17]],\n\n       [[18, 19, 20],\n        [21, 22, 23]]])"
     },
     "metadata": {},
     "execution_count": 503
    }
   ],
   "source": [
    "u_halo"
   ]
  },
  {
   "cell_type": "code",
   "execution_count": 504,
   "metadata": {},
   "outputs": [
    {
     "output_type": "execute_result",
     "data": {
      "text/plain": "array([[[ 3,  4,  5],\n        [ 0,  1,  2]],\n\n       [[ 9, 10, 11],\n        [ 6,  7,  8]],\n\n       [[15, 16, 17],\n        [12, 13, 14]],\n\n       [[21, 22, 23],\n        [18, 19, 20]]])"
     },
     "metadata": {},
     "execution_count": 504
    }
   ],
   "source": [
    "d_halo"
   ]
  },
  {
   "cell_type": "code",
   "execution_count": 505,
   "metadata": {},
   "outputs": [
    {
     "output_type": "execute_result",
     "data": {
      "text/plain": "array([[[ 2,  5],\n        [ 1,  4],\n        [ 0,  3]],\n\n       [[ 8, 11],\n        [ 7, 10],\n        [ 6,  9]],\n\n       [[14, 17],\n        [13, 16],\n        [12, 15]],\n\n       [[20, 23],\n        [19, 22],\n        [18, 21]]])"
     },
     "metadata": {},
     "execution_count": 505
    }
   ],
   "source": [
    "l_halo"
   ]
  },
  {
   "cell_type": "code",
   "execution_count": 506,
   "metadata": {},
   "outputs": [
    {
     "output_type": "execute_result",
     "data": {
      "text/plain": "array([[[ 5,  2],\n        [ 4,  1],\n        [ 3,  0]],\n\n       [[11,  8],\n        [10,  7],\n        [ 9,  6]],\n\n       [[17, 14],\n        [16, 13],\n        [15, 12]],\n\n       [[23, 20],\n        [22, 19],\n        [21, 18]]])"
     },
     "metadata": {},
     "execution_count": 506
    }
   ],
   "source": [
    "r_halo"
   ]
  },
  {
   "cell_type": "code",
   "execution_count": 507,
   "metadata": {},
   "outputs": [],
   "source": [
    "neighbor_tiles = tile_neighbors[tile]\n",
    "neighbor_tiles_rotations = {v[0]: v[1] for v in neighbor_tiles.values()}\n",
    "neighbor_halo_rotations = {v: 0 if tile == rank2tile[k] else ((4-neighbor_tiles_rotations[rank2tile[k]])%4)\n",
    "                           for v, k in rank_neighbors.items()}"
   ]
  },
  {
   "cell_type": "code",
   "execution_count": 508,
   "metadata": {},
   "outputs": [
    {
     "output_type": "execute_result",
     "data": {
      "text/plain": "1"
     },
     "metadata": {},
     "execution_count": 508
    }
   ],
   "source": [
    "tile"
   ]
  },
  {
   "cell_type": "code",
   "execution_count": 509,
   "metadata": {},
   "outputs": [
    {
     "output_type": "execute_result",
     "data": {
      "text/plain": "{'U': 0, 'D': 0, 'L': 1, 'R': 0}"
     },
     "metadata": {},
     "execution_count": 509
    }
   ],
   "source": [
    "neighbor_halo_rotations"
   ]
  },
  {
   "cell_type": "code",
   "execution_count": 510,
   "metadata": {},
   "outputs": [
    {
     "output_type": "execute_result",
     "data": {
      "text/plain": "array([[[ 5,  4,  3],\n        [ 2,  1,  0]],\n\n       [[11, 10,  9],\n        [ 8,  7,  6]],\n\n       [[17, 16, 15],\n        [14, 13, 12]],\n\n       [[23, 22, 21],\n        [20, 19, 18]]])"
     },
     "metadata": {},
     "execution_count": 510
    }
   ],
   "source": [
    "np.rot90(l_halo, neighbor_halo_rotations['L'], axes=(1,2))"
   ]
  },
  {
   "cell_type": "code",
   "execution_count": 511,
   "metadata": {},
   "outputs": [
    {
     "output_type": "execute_result",
     "data": {
      "text/plain": "array([[[ 5,  2],\n        [ 4,  1],\n        [ 3,  0]],\n\n       [[11,  8],\n        [10,  7],\n        [ 9,  6]],\n\n       [[17, 14],\n        [16, 13],\n        [15, 12]],\n\n       [[23, 20],\n        [22, 19],\n        [21, 18]]])"
     },
     "metadata": {},
     "execution_count": 511
    }
   ],
   "source": [
    "np.rot90(r_halo, neighbor_halo_rotations['R'], axes=(1,2))"
   ]
  },
  {
   "cell_type": "code",
   "execution_count": 512,
   "metadata": {},
   "outputs": [
    {
     "output_type": "execute_result",
     "data": {
      "text/plain": "array([[[ 0,  1,  2],\n        [ 3,  4,  5]],\n\n       [[ 6,  7,  8],\n        [ 9, 10, 11]],\n\n       [[12, 13, 14],\n        [15, 16, 17]],\n\n       [[18, 19, 20],\n        [21, 22, 23]]])"
     },
     "metadata": {},
     "execution_count": 512
    }
   ],
   "source": [
    "np.rot90(u_halo, neighbor_halo_rotations['U'], axes=(1,2))"
   ]
  },
  {
   "cell_type": "code",
   "execution_count": 513,
   "metadata": {},
   "outputs": [
    {
     "output_type": "execute_result",
     "data": {
      "text/plain": "array([[[ 3,  4,  5],\n        [ 0,  1,  2]],\n\n       [[ 9, 10, 11],\n        [ 6,  7,  8]],\n\n       [[15, 16, 17],\n        [12, 13, 14]],\n\n       [[21, 22, 23],\n        [18, 19, 20]]])"
     },
     "metadata": {},
     "execution_count": 513
    }
   ],
   "source": [
    "np.rot90(d_halo, neighbor_halo_rotations['D'], axes=(1,2))"
   ]
  },
  {
   "cell_type": "code",
   "execution_count": 514,
   "metadata": {
    "tags": []
   },
   "outputs": [
    {
     "output_type": "stream",
     "name": "stdout",
     "text": "test :5 at (array([1]), array([2]))\n"
    }
   ],
   "source": [
    "print(\"test :{} at {}\".format(np.amax(u_halo[0]), np.where(u_halo[0] == np.amax(u_halo[0]))))"
   ]
  },
  {
   "cell_type": "code",
   "execution_count": 515,
   "metadata": {},
   "outputs": [
    {
     "output_type": "execute_result",
     "data": {
      "text/plain": "0.001"
     },
     "metadata": {},
     "execution_count": 515
    }
   ],
   "source": [
    "(global_rank+1) / 1000"
   ]
  },
  {
   "cell_type": "code",
   "execution_count": 516,
   "metadata": {},
   "outputs": [],
   "source": [
    "a = np.dstack(np.meshgrid(np.arange(10), np.arange(10), indexing='ij')) + (global_rank+1) / 1000"
   ]
  },
  {
   "cell_type": "code",
   "execution_count": 517,
   "metadata": {},
   "outputs": [],
   "source": [
    "a = np.add(*np.mgrid[0:8*10:10, 0:8]) + (global_rank+1) / 1000"
   ]
  },
  {
   "cell_type": "code",
   "execution_count": 518,
   "metadata": {
    "tags": []
   },
   "outputs": [
    {
     "output_type": "stream",
     "name": "stdout",
     "text": "[[ 0.001  1.001  2.001  3.001  4.001  5.001  6.001  7.001]\n [10.001 11.001 12.001 13.001 14.001 15.001 16.001 17.001]\n [20.001 21.001 22.001 23.001 24.001 25.001 26.001 27.001]\n [30.001 31.001 32.001 33.001 34.001 35.001 36.001 37.001]\n [40.001 41.001 42.001 43.001 44.001 45.001 46.001 47.001]\n [50.001 51.001 52.001 53.001 54.001 55.001 56.001 57.001]\n [60.001 61.001 62.001 63.001 64.001 65.001 66.001 67.001]\n [70.001 71.001 72.001 73.001 74.001 75.001 76.001 77.001]]\n"
    }
   ],
   "source": [
    "with np.printoptions(precision=3, suppress=True):\n",
    "    print(a)"
   ]
  },
  {
   "cell_type": "code",
   "execution_count": 519,
   "metadata": {},
   "outputs": [
    {
     "output_type": "execute_result",
     "data": {
      "text/plain": "(8, 8)"
     },
     "metadata": {},
     "execution_count": 519
    }
   ],
   "source": [
    "a.shape"
   ]
  },
  {
   "cell_type": "code",
   "execution_count": 520,
   "metadata": {},
   "outputs": [],
   "source": [
    "def __setup_grid(ranks_per_tile):\n",
    "        \"\"\"Distribute ranks onto a Cartesian grid of workers\"\"\"\n",
    "        for ranks_x in range(math.floor( math.sqrt(ranks_per_tile) ), 0, -1):\n",
    "            if ranks_per_tile % ranks_x == 0:\n",
    "                break\n",
    "        return (ranks_per_tile // ranks_x, ranks_x)"
   ]
  },
  {
   "cell_type": "code",
   "execution_count": 521,
   "metadata": {},
   "outputs": [],
   "source": [
    "def __rank_to_position(local_rank):\n",
    "    \"\"\"Find position of rank on worker grid\"\"\"\n",
    "    return ( local_rank // ranks_per_axis, local_rank % ranks_per_axis )"
   ]
  },
  {
   "cell_type": "code",
   "execution_count": 522,
   "metadata": {},
   "outputs": [],
   "source": [
    "def __distribute_to_bins(number, bins):\n",
    "        \"\"\"Distribute a number of elements to a number of bins\"\"\"\n",
    "        assert (number % bins == 0), 'Domain size must be divisible by ranks per coordinate axis'\n",
    "        n = number // bins\n",
    "        bin_size = [n] * bins\n",
    "        return bin_size"
   ]
  },
  {
   "cell_type": "code",
   "execution_count": 523,
   "metadata": {},
   "outputs": [],
   "source": [
    " def __cumsum(array, initial_value=0):\n",
    "        \"\"\"Cumulative sum with an optional initial value (default is zero)\"\"\"\n",
    "        cumsum = [initial_value]\n",
    "        for i in array:\n",
    "            cumsum += [ cumsum[-1] + i ]\n",
    "        return cumsum"
   ]
  },
  {
   "cell_type": "code",
   "execution_count": 524,
   "metadata": {},
   "outputs": [],
   "source": [
    "def __find_max_shape(shapes):\n",
    "        max_shape = shapes[0]\n",
    "        for shape in shapes[1:]:\n",
    "            max_shape = list(map(max, zip(max_shape, shape)))\n",
    "        return max_shape"
   ]
  },
  {
   "cell_type": "code",
   "execution_count": 525,
   "metadata": {},
   "outputs": [],
   "source": [
    " def __setup_domain(shape, num_halo):\n",
    "        \"\"\"Distribute the points of the computational grid onto the Cartesian grid of workers\"\"\"\n",
    "        assert len(shape) == 3, \"Must pass a 3-dimensional shape\"\n",
    "        size_z = shape[0]\n",
    "        size_y = __distribute_to_bins(shape[1], ranks_per_axis)\n",
    "        size_x = __distribute_to_bins(shape[2], ranks_per_axis)\n",
    "\n",
    "        pos_y = __cumsum(size_y, initial_value=num_halo)\n",
    "        pos_x = __cumsum(size_x, initial_value=num_halo)\n",
    "\n",
    "        domains = []\n",
    "        shapes = []\n",
    "        for rank in range(ranks_per_tile):\n",
    "            pos = __rank_to_position(rank)\n",
    "            domains += [[ pos_y[pos[0]] - num_halo, pos_x[pos[1]] - num_halo, \\\n",
    "                            pos_y[pos[0] + 1] + num_halo, pos_x[pos[1] + 1] + num_halo ]]\n",
    "            shapes += [[ size_z, domains[rank][2] - domains[rank][0], \\\n",
    "                                    domains[rank][3] - domains[rank][1] ]]\n",
    "        __domains, __shapes =  domains, shapes\n",
    "        \n",
    "        __domain, __shape = domains[local_rank], shapes[local_rank]\n",
    "        __max_shape = __find_max_shape(__shapes )\n",
    "        return __domains, __shapes, __domain, __shape, __max_shape"
   ]
  },
  {
   "cell_type": "code",
   "execution_count": 526,
   "metadata": {},
   "outputs": [],
   "source": [
    "__domains, __shapes, __domain, __shape, __max_shape = __setup_domain(shape,2)"
   ]
  },
  {
   "cell_type": "code",
   "execution_count": 531,
   "metadata": {},
   "outputs": [
    {
     "output_type": "execute_result",
     "data": {
      "text/plain": "[[0, 0, 8, 8], [0, 4, 8, 12], [4, 0, 12, 8], [4, 4, 12, 12]]"
     },
     "metadata": {},
     "execution_count": 531
    }
   ],
   "source": [
    "__domains"
   ]
  },
  {
   "cell_type": "code",
   "execution_count": 536,
   "metadata": {},
   "outputs": [
    {
     "output_type": "execute_result",
     "data": {
      "text/plain": "[[3, 8, 8], [3, 8, 8], [3, 8, 8], [3, 8, 8]]"
     },
     "metadata": {},
     "execution_count": 536
    }
   ],
   "source": [
    "__shapes"
   ]
  },
  {
   "cell_type": "code",
   "execution_count": 537,
   "metadata": {},
   "outputs": [
    {
     "output_type": "execute_result",
     "data": {
      "text/plain": "[3, 8, 8]"
     },
     "metadata": {},
     "execution_count": 537
    }
   ],
   "source": [
    "shape"
   ]
  },
  {
   "cell_type": "code",
   "execution_count": 539,
   "metadata": {},
   "outputs": [
    {
     "output_type": "execute_result",
     "data": {
      "text/plain": "[4, 4]"
     },
     "metadata": {},
     "execution_count": 539
    }
   ],
   "source": [
    " a= __distribute_to_bins(shape[1], ranks_per_axis)\n",
    " a"
   ]
  },
  {
   "cell_type": "code",
   "execution_count": 535,
   "metadata": {},
   "outputs": [
    {
     "output_type": "execute_result",
     "data": {
      "text/plain": "[2, 6, 10]"
     },
     "metadata": {},
     "execution_count": 535
    }
   ],
   "source": [
    "__cumsum(a, num_halo)"
   ]
  },
  {
   "cell_type": "code",
   "execution_count": 541,
   "metadata": {},
   "outputs": [
    {
     "output_type": "execute_result",
     "data": {
      "text/plain": "(1, 0)"
     },
     "metadata": {},
     "execution_count": 541
    }
   ],
   "source": [
    "__rank_to_position(2)"
   ]
  },
  {
   "cell_type": "code",
   "execution_count": 542,
   "metadata": {},
   "outputs": [
    {
     "output_type": "execute_result",
     "data": {
      "text/plain": "[3, 8, 8]"
     },
     "metadata": {},
     "execution_count": 542
    }
   ],
   "source": [
    "__max_shape"
   ]
  },
  {
   "cell_type": "code",
   "execution_count": 544,
   "metadata": {},
   "outputs": [],
   "source": [
    "test_array = np.arange(9).reshape((3,-1))"
   ]
  },
  {
   "cell_type": "code",
   "execution_count": 545,
   "metadata": {},
   "outputs": [],
   "source": [
    "np.save(\"test_array\", test_array)"
   ]
  },
  {
   "cell_type": "code",
   "execution_count": 549,
   "metadata": {},
   "outputs": [],
   "source": [
    "b = np.load(\"test_array.npy\")"
   ]
  },
  {
   "cell_type": "code",
   "execution_count": 550,
   "metadata": {},
   "outputs": [
    {
     "output_type": "execute_result",
     "data": {
      "text/plain": "array([[0, 1, 2],\n       [3, 4, 5],\n       [6, 7, 8]])"
     },
     "metadata": {},
     "execution_count": 550
    }
   ],
   "source": [
    "b"
   ]
  },
  {
   "cell_type": "code",
   "execution_count": null,
   "metadata": {},
   "outputs": [],
   "source": []
  }
 ],
 "metadata": {
  "kernelspec": {
   "display_name": "Python 3.8.5 64-bit",
   "language": "python",
   "name": "python_defaultSpec_1596694697631"
  },
  "language_info": {
   "codemirror_mode": {
    "name": "ipython",
    "version": 3
   },
   "file_extension": ".py",
   "mimetype": "text/x-python",
   "name": "python",
   "nbconvert_exporter": "python",
   "pygments_lexer": "ipython3",
   "version": "3.8.5-final"
  },
  "latex_envs": {
   "LaTeX_envs_menu_present": true,
   "autoclose": false,
   "autocomplete": false,
   "bibliofile": "biblio.bib",
   "cite_by": "apalike",
   "current_citInitial": 1,
   "eqLabelWithNumbers": true,
   "eqNumInitial": 1,
   "hotkeys": {
    "equation": "Ctrl-E",
    "itemize": "Ctrl-I"
   },
   "labels_anchors": false,
   "latex_user_defs": false,
   "report_style_numbering": false,
   "user_envs_cfg": false
  },
  "toc": {
   "base_numbering": 1,
   "nav_menu": {},
   "number_sections": true,
   "sideBar": true,
   "skip_h1_title": false,
   "title_cell": "Table of Contents",
   "title_sidebar": "Contents",
   "toc_cell": true,
   "toc_position": {},
   "toc_section_display": true,
   "toc_window_display": false
  },
  "varInspector": {
   "cols": {
    "lenName": 16,
    "lenType": 16,
    "lenVar": 40
   },
   "kernels_config": {
    "python": {
     "delete_cmd_postfix": "",
     "delete_cmd_prefix": "del ",
     "library": "var_list.py",
     "varRefreshCmd": "print(var_dic_list())"
    },
    "r": {
     "delete_cmd_postfix": ") ",
     "delete_cmd_prefix": "rm(",
     "library": "var_list.r",
     "varRefreshCmd": "cat(var_dic_list()) "
    }
   },
   "types_to_exclude": [
    "module",
    "function",
    "builtin_function_or_method",
    "instance",
    "_Feature"
   ],
   "window_display": false
  }
 },
 "nbformat": 4,
 "nbformat_minor": 4
}